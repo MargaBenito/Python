{
 "cells": [
  {
   "cell_type": "code",
   "execution_count": 4,
   "metadata": {},
   "outputs": [
    {
     "name": "stdout",
     "output_type": "stream",
     "text": [
      "('Capitan', 'Sirena')\n",
      "('Bubu', 'Michi', 'Piki')\n",
      "('Suerte', 'Uno', 'Luna', 'Turbo')\n"
     ]
    },
    {
     "data": {
      "text/plain": [
       "tuple"
      ]
     },
     "execution_count": 4,
     "metadata": {},
     "output_type": "execute_result"
    }
   ],
   "source": [
    "'''Define una variable con valores que se te ocurran e identifica sus tipos. Por ejemplo, números, textos, listas, tuplas, conjuntos, etc. \n",
    "- Crea una tupla que contenga algunos nombres de mascota\n",
    "- Crea un diccionario \"mascotas\", que contenga el nombre y tipo de animal de cada mascota\n",
    "- Crea una lista de mascotas en la que cada item contenga nombre, tipo, edad y peso de la mascota\n",
    "- Crea un conjunto que represente las distintas secciones de una veterinaria y las mascotas alojadas en cada sección, con sus respectivos datos.'''\n",
    "\n",
    "mascotasMaria = (\"Bubu\",\"Michi\",\"Piki\")\n",
    "mascotasIrene = (\"Capitan\",\"Sirena\")\n",
    "mascotasFatima = (\"Suerte\", \"Uno\",\"Luna\", \"Turbo\")\n",
    "print(mascotasIrene)\n",
    "print(mascotasMaria)\n",
    "print(mascotasFatima)\n",
    "type(mascotasFatima)\n",
    "type(mascotasIrene)\n",
    "type(mascotasMaria)\n",
    "\n"
   ]
  },
  {
   "cell_type": "code",
   "execution_count": 8,
   "metadata": {},
   "outputs": [
    {
     "name": "stdout",
     "output_type": "stream",
     "text": [
      "mascotasIrene ({'nombre': 'Capitan', 'tipo': 'perro', 'edad': '5', 'peso': '25'}, {'nombre': 'Sirena', 'tipo': 'gato', 'edad': '5', 'peso': '5'})\n",
      "mascotasMaria ({'nombre': 'Bubu', 'tipo': 'perro', 'edad': '3', 'peso': '20'}, {'nombre': 'Michi', 'tipo': 'gato', 'edad': '3', 'peso': '5'}, {'nombre': 'Piki', 'tipo': 'pajaro', 'edad': '4', 'peso': '0.2'})\n",
      "mascotasFatima ({'nombre': 'Suerte', 'tipo': 'perro', 'edad': '3', 'peso': '10'}, {'nombre': 'Uno', 'tipo': 'perro', 'edad': '10', 'peso': '50'}, {'nombre': 'Luna', 'tipo': 'perro', 'edad': '7', 'peso': '30'}, {'nombre': 'Turbo', 'tipo': 'perro', 'edad': '7', 'peso': '40'})\n"
     ]
    }
   ],
   "source": [
    "\n",
    "Bubu = {\"nombre\":\"Bubu\",\"tipo\":\"perro\",\"edad\":\"3\",\"peso\":\"20\"}\n",
    "Capitan = {\"nombre\":\"Capitan\",\"tipo\":\"perro\",\"edad\":\"5\",\"peso\":\"25\"}\n",
    "Suerte = {\"nombre\":\"Suerte\",\"tipo\":\"perro\",\"edad\":\"3\",\"peso\":\"10\"}\n",
    "Uno = {\"nombre\":\"Uno\",\"tipo\":\"perro\",\"edad\":\"10\",\"peso\":\"50\"}\n",
    "Luna = {\"nombre\":\"Luna\",\"tipo\":\"perro\",\"edad\":\"7\",\"peso\":\"30\"}\n",
    "Turbo = {\"nombre\":\"Turbo\",\"tipo\":\"perro\",\"edad\":\"7\",\"peso\":\"40\"}\n",
    "Michi = {\"nombre\":\"Michi\",\"tipo\":\"gato\",\"edad\":\"3\",\"peso\":\"5\"}\n",
    "Sirena = {\"nombre\":\"Sirena\",\"tipo\":\"gato\",\"edad\":\"5\",\"peso\":\"5\"}\n",
    "Piki = {\"nombre\":\"Piki\",\"tipo\":\"pajaro\",\"edad\":\"4\",\"peso\":\"0.2\"}\n",
    "\n",
    "'''La seccion de perros, la sección de gatos y la de pájaros serán listas'''\n",
    "\n",
    "perros = [Bubu,Capitan,Suerte,Uno,Luna,Turbo]\n",
    "gatos = [Michi, Sirena]\n",
    "pajaros = [Piki]\n",
    "\n",
    "'''veterinaria = {\"perros\":perros, \"gatos\":gatos,\"pajaros\":pajaros}\n",
    "print(veterinaria)'''\n",
    "\n",
    "mascotasMaria = (Bubu,Michi,Piki)\n",
    "mascotasIrene = (Capitan,Sirena)\n",
    "mascotasFatima = (Suerte, Uno,Luna, Turbo)\n",
    "print(\"mascotasIrene\", mascotasIrene)\n",
    "print(\"mascotasMaria\",mascotasMaria)\n",
    "print(\"mascotasFatima\",mascotasFatima)\n",
    "\n",
    "\n"
   ]
  }
 ],
 "metadata": {
  "kernelspec": {
   "display_name": "Python 3",
   "language": "python",
   "name": "python3"
  },
  "language_info": {
   "codemirror_mode": {
    "name": "ipython",
    "version": 3
   },
   "file_extension": ".py",
   "mimetype": "text/x-python",
   "name": "python",
   "nbconvert_exporter": "python",
   "pygments_lexer": "ipython3",
   "version": "3.9.5"
  }
 },
 "nbformat": 4,
 "nbformat_minor": 2
}
