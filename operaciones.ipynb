{
 "cells": [
  {
   "cell_type": "code",
   "execution_count": 6,
   "metadata": {},
   "outputs": [
    {
     "data": {
      "text/plain": [
       "'Que rabia me da cuando estoy perdida'"
      ]
     },
     "execution_count": 6,
     "metadata": {},
     "output_type": "execute_result"
    }
   ],
   "source": [
    "''' EJERCICIOS 1\n",
    "- Define una variable con valores que se te ocurran e identifica sus tipos. Por ejemplo, números, textos, listas, tuplas, conjuntos, etc. \n",
    "- Crea una tupla que contenga algunos nombres de mascota\n",
    "- Crea un diccionario \"mascotas\", que contenga el nombre y tipo de animal de cada mascota\n",
    "- Crea una lista de mascotas en la que cada item contenga nombre, tipo, edad y peso de la mascota\n",
    "- Crea un conjunto que represente las distintas secciones de una veterinaria y las mascotas alojadas en cada sección, con sus respectivos datos.\n",
    "\n",
    "# EJERCICIOS 2\n",
    "- Escribe un programa que almacene internamente una lista de números, pida al usuario un número e indique si está en la lista con un True o False.\n",
    "- Calcular el sueldo mensual de un operario conociendo la cantidad de horas trabajadas y el valor por hora. Estos valores se deberán solicitar al usuario.\n",
    "- Dados N números, separados por \",\" ingresados por el usuario en una sola entrada, identifica cuál es el mayor de todos.\n",
    "- Dada una lista, escribe un programa que cuente los valores únicos.\n",
    "- Dada una colección cualquiera, muestra el valor de la clave en segunda posición.'''\n",
    "\n",
    "v1 = \"Que rabia me da cuando estoy perdida\"\n",
    "type(v1)\n",
    "v1"
   ]
  },
  {
   "cell_type": "code",
   "execution_count": null,
   "metadata": {},
   "outputs": [],
   "source": []
  }
 ],
 "metadata": {
  "kernelspec": {
   "display_name": "Python 3.10 - SDK v2",
   "language": "python",
   "name": "python310-sdkv2"
  },
  "language_info": {
   "codemirror_mode": {
    "name": "ipython",
    "version": 3
   },
   "file_extension": ".py",
   "mimetype": "text/x-python",
   "name": "python",
   "nbconvert_exporter": "python",
   "pygments_lexer": "ipython3",
   "version": "3.10.14"
  }
 },
 "nbformat": 4,
 "nbformat_minor": 2
}
